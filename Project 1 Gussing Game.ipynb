{
 "cells": [
  {
   "cell_type": "code",
   "execution_count": 1,
   "metadata": {},
   "outputs": [
    {
     "name": "stdout",
     "output_type": "stream",
     "text": [
      "Hello Guess a number from 1 to 100\n",
      "if it less 0 or higher than 100 Out will be printed \n",
      "if you close closer printed far further printed \n",
      "Have Fun  \n"
     ]
    },
    {
     "name": "stdin",
     "output_type": "stream",
     "text": [
      "Enter Number 1\n",
      "Enter Number 4\n"
     ]
    },
    {
     "name": "stdout",
     "output_type": "stream",
     "text": [
      "Further\n"
     ]
    },
    {
     "name": "stdin",
     "output_type": "stream",
     "text": [
      "Enter Number 2\n"
     ]
    },
    {
     "name": "stdout",
     "output_type": "stream",
     "text": [
      "Further\n"
     ]
    },
    {
     "name": "stdin",
     "output_type": "stream",
     "text": [
      "Enter Number 3\n"
     ]
    },
    {
     "name": "stdout",
     "output_type": "stream",
     "text": [
      "Done\n"
     ]
    }
   ],
   "source": [
    "#This is A gussing game \n",
    "#It will be a hidden number from 1 to 100 and you will try to guss it if you dont get the number but you are close to it it will print closer \n",
    "#if your guess is started to be further it will print out further \n",
    "#but if you get it the game is over and you did it guessed the right number \n",
    "\n",
    "from random import randint\n",
    "Actual = randint(1,100)\n",
    "#print (Actual)\n",
    "print ('Hello Guess a number from 1 to 100\\nif it less 0 or higher than 100 Out will be printed \\nif you close closer printed far further printed \\nHave Fun  ')\n",
    "Input1 = input('Enter Number')\n",
    "In1=(int)(Input1)\n",
    "List = []\n",
    "List.append(In1)\n",
    "i=0\n",
    "while (Actual != In1):\n",
    "    if In1 < 0 or In1 > 100 :\n",
    "        print ('Out of Boundries')\n",
    "    elif (Actual-List[i]) < (Actual-In1) :\n",
    "        print ('Closer')\n",
    "    elif (Actual-List[i]) > (Actual-In1) :\n",
    "        print ('Further') \n",
    "        \n",
    "    Input1 = input('Enter Number')\n",
    "    In1=(int)(Input1)\n",
    "else:\n",
    "    print('Done')\n",
    "\n",
    "i+=1   \n",
    "    \n"
   ]
  },
  {
   "cell_type": "code",
   "execution_count": null,
   "metadata": {},
   "outputs": [],
   "source": []
  },
  {
   "cell_type": "code",
   "execution_count": null,
   "metadata": {},
   "outputs": [],
   "source": []
  }
 ],
 "metadata": {
  "kernelspec": {
   "display_name": "Python 3",
   "language": "python",
   "name": "python3"
  },
  "language_info": {
   "codemirror_mode": {
    "name": "ipython",
    "version": 3
   },
   "file_extension": ".py",
   "mimetype": "text/x-python",
   "name": "python",
   "nbconvert_exporter": "python",
   "pygments_lexer": "ipython3",
   "version": "3.7.1"
  }
 },
 "nbformat": 4,
 "nbformat_minor": 2
}

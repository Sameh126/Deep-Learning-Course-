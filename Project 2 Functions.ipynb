{
 "cells": [
  {
   "cell_type": "code",
   "execution_count": 5,
   "metadata": {},
   "outputs": [],
   "source": [
    "#This is a customized find function to find the index of the letter you want in a specific word\n",
    "#without using the built in fuction in python \n",
    "#so you have to specify the letter you want to find in the word  \n",
    "\n",
    "def Get_C(s):\n",
    "    \n",
    "    lis=[]\n",
    "    \n",
    "    for Index in range(len(s)):\n",
    "        \n",
    "        if s[Index] == 'c':\n",
    "            \n",
    "            lis.append(Index)\n",
    "            \n",
    "    return lis"
   ]
  },
  {
   "cell_type": "code",
   "execution_count": 4,
   "metadata": {},
   "outputs": [],
   "source": [
    "#This is a customized split function  \n",
    "#By using the customized find function Implemented before this is split fuction in the first occureness of the desired letter \n",
    "#Without using built in split function from python\n",
    "\n",
    "def Find_FirstOcu (string,let):\n",
    "    \n",
    "    Letter = let \n",
    "    List = list(string)\n",
    "    Length = len(List)\n",
    "    \n",
    "    for i in range (Length):\n",
    "        \n",
    "        if List[i]== Letter:\n",
    "            \n",
    "            print (List[:i])\n",
    "            "
   ]
  },
  {
   "cell_type": "code",
   "execution_count": 6,
   "metadata": {},
   "outputs": [],
   "source": [
    "#This is renaming for multiple files with the same function using os Library\n",
    "\n",
    "import os \n",
    "\n",
    "def Bulck_Rename():\n",
    "    \n",
    "    os.chdir('C:\\\\Users\\\\Israa\\\\Desktop\\\\Deep Learning Course\\\\Renaming')\n",
    "    \n",
    "    ImageNum = 1\n",
    "    \n",
    "    for counter in os.listdir():\n",
    "        \n",
    "        Oldname = counter\n",
    "        Newname = 'Image' + str(ImageNum)+'.jpg'\n",
    "        os.rename (Oldname,Newname)\n",
    "        ImageNum +=1"
   ]
  },
  {
   "cell_type": "code",
   "execution_count": null,
   "metadata": {},
   "outputs": [],
   "source": []
  }
 ],
 "metadata": {
  "kernelspec": {
   "display_name": "Python 3",
   "language": "python",
   "name": "python3"
  },
  "language_info": {
   "codemirror_mode": {
    "name": "ipython",
    "version": 3
   },
   "file_extension": ".py",
   "mimetype": "text/x-python",
   "name": "python",
   "nbconvert_exporter": "python",
   "pygments_lexer": "ipython3",
   "version": "3.7.1"
  }
 },
 "nbformat": 4,
 "nbformat_minor": 2
}
